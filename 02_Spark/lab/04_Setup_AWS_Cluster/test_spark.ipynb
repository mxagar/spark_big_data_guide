{
 "cells": [
  {
   "cell_type": "markdown",
   "id": "832dba64-76c1-4101-a28c-bf527a7b6854",
   "metadata": {},
   "source": [
    "## Initial Test"
   ]
  },
  {
   "cell_type": "code",
   "execution_count": 1,
   "id": "c7b68f86-4e5f-4263-9f47-cdba0b73b731",
   "metadata": {},
   "outputs": [
    {
     "name": "stdout",
     "output_type": "stream",
     "text": [
      "+---+\n",
      "| id|\n",
      "+---+\n",
      "|  0|\n",
      "|  1|\n",
      "|  2|\n",
      "|  3|\n",
      "|  4|\n",
      "|  5|\n",
      "|  6|\n",
      "|  7|\n",
      "|  8|\n",
      "|  9|\n",
      "+---+\n",
      "\n"
     ]
    }
   ],
   "source": [
    "from pyspark.sql import SparkSession\n",
    "\n",
    "spark = SparkSession.builder.appName(\"HelloLocalSpark\").getOrCreate()\n",
    "\n",
    "df = spark.range(10)\n",
    "df.show()\n",
    "\n",
    "spark.stop()"
   ]
  },
  {
   "cell_type": "markdown",
   "id": "34c7b983-8c87-481e-8222-fc88e6f13906",
   "metadata": {},
   "source": [
    "## Connect to S3"
   ]
  },
  {
   "cell_type": "code",
   "execution_count": 2,
   "id": "dceb096b-124d-4186-8c06-33f693589196",
   "metadata": {},
   "outputs": [
    {
     "name": "stdout",
     "output_type": "stream",
     "text": [
      "+---+----------+--------------------+----------+----------+----------------+-------------+\n",
      "| id|      name|              coords|start_year|  url_name|         country|country_state|\n",
      "+---+----------+--------------------+----------+----------+----------------+-------------+\n",
      "|  5|  Aberdeen|  POINT(-2.15 57.15)|      2017|  aberdeen|        Scotland|         NULL|\n",
      "|  6|  Adelaide|POINT(138.6 -34.9...|      2017|  adelaide|       Australia|         NULL|\n",
      "|  7|   Algiers|POINT(3 36.83333333)|      2017|   algiers|         Algeria|         NULL|\n",
      "|  9|    Ankara|POINT(32.91666667...|      2017|    ankara|          Turkey|         NULL|\n",
      "| 16|     Belém|POINT(-48.4833333...|      2017|     belem|          Brazil|         NULL|\n",
      "| 10|  Asunción|POINT(-57.6666666...|      2017|  asuncion|        Paraguay|         NULL|\n",
      "| 11|    Athens|POINT(23.71666667...|      2017|    athens|          Greece|         NULL|\n",
      "| 12|  Auckland|POINT(174.75 -36....|      2017|  auckland|     New Zealand|         NULL|\n",
      "| 13|   Bangkok|  POINT(100.5 13.75)|      2017|   bangkok|        Thailand|         NULL|\n",
      "|211|    Ottawa|POINT(-75.7166666...|      2000|    ottawa|          Canada|         Ont.|\n",
      "| 17|   Belfast|POINT(-5.93333333...|      2017|   belfast|Northern Ireland|         NULL|\n",
      "| 18|  Belgrade|POINT(20.53333333...|      2017|  belgrade|          Serbia|         NULL|\n",
      "|273|St.-Brieuc|POINT(-2.78330326...|      2018|st.-brieuc|          France|         NULL|\n",
      "|274|   Poitier|POINT(0.333276529...|      2018|   poitier|          France|         NULL|\n",
      "|147|   Chicago|POINT(-87.6166666...|      1892|   chicago|   United States|         Ill.|\n",
      "|269|    Annecy|POINT(6.116670287...|      2018|    annecy|          France|         NULL|\n",
      "|270|    Roanne|POINT(4.066666218...|      2018|    roanne|          France|         NULL|\n",
      "|271|     Roura|POINT(-52.3300205...|      2018|     roura|          France|         NULL|\n",
      "|272| Sinnamary|POINT(-52.9599821...|      2018| sinnamary|          France|         NULL|\n",
      "|276|  Biarritz|POINT(-1.56159489...|      2018|  biarritz|          France|         NULL|\n",
      "+---+----------+--------------------+----------+----------+----------------+-------------+\n",
      "only showing top 20 rows\n",
      "\n",
      "+-----------+-----+\n",
      "|    country|count|\n",
      "+-----------+-----+\n",
      "|   Paraguay|    1|\n",
      "|     Russia|    4|\n",
      "|    Senegal|    1|\n",
      "|     Sweden|    1|\n",
      "|     Guyana|    1|\n",
      "|Philippines|    1|\n",
      "|   Djibouti|    1|\n",
      "|   Malaysia|    1|\n",
      "|  Singapore|    1|\n",
      "|     Turkey|    1|\n",
      "|    Germany|    5|\n",
      "|     France|   71|\n",
      "|     Greece|    1|\n",
      "|    Algeria|    1|\n",
      "|  Argentina|    6|\n",
      "|    Belgium|    1|\n",
      "|    Ecuador|    1|\n",
      "| Madagascar|    1|\n",
      "|    Finland|    1|\n",
      "|    Myanmar|    1|\n",
      "+-----------+-----+\n",
      "only showing top 20 rows\n",
      "\n"
     ]
    }
   ],
   "source": [
    "from pyspark.sql import SparkSession\n",
    "\n",
    "# Initialize SparkSession with S3 support\n",
    "spark = SparkSession.builder \\\n",
    "    .appName(\"CitiesDataAnalysis\") \\\n",
    "    .config(\"spark.hadoop.fs.s3a.impl\", \"org.apache.hadoop.fs.s3a.S3AFileSystem\") \\\n",
    "    .config(\"spark.hadoop.fs.s3a.aws.credentials.provider\", \"com.amazonaws.auth.DefaultAWSCredentialsProviderChain\") \\\n",
    "    .getOrCreate()\n",
    "\n",
    "# Define the S3 path to your CSV file\n",
    "s3_path = \"s3a://udacity-spark-music-askdjb/cities.csv\"\n",
    "\n",
    "# Read the CSV file into a DataFrame\n",
    "df = spark.read.option(\"header\", \"true\").csv(s3_path)\n",
    "\n",
    "# Show the first few rows\n",
    "df.show()\n",
    "\n",
    "# Perform additional Spark operations as needed\n",
    "# For example, count the number of cities per country\n",
    "df.groupBy(\"country\").count().show()\n",
    "\n",
    "# Stop the SparkSession\n",
    "spark.stop()"
   ]
  },
  {
   "cell_type": "code",
   "execution_count": null,
   "id": "9a97fbe7-3771-4061-85d2-d30faef37599",
   "metadata": {},
   "outputs": [],
   "source": []
  }
 ],
 "metadata": {
  "kernelspec": {
   "display_name": "Python 3 (ipykernel)",
   "language": "python",
   "name": "python3"
  },
  "language_info": {
   "codemirror_mode": {
    "name": "ipython",
    "version": 3
   },
   "file_extension": ".py",
   "mimetype": "text/x-python",
   "name": "python",
   "nbconvert_exporter": "python",
   "pygments_lexer": "ipython3",
   "version": "3.11.6"
  }
 },
 "nbformat": 4,
 "nbformat_minor": 5
}
