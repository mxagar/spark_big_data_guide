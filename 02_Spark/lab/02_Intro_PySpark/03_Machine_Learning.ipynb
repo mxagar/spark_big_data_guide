{
 "cells": [
  {
   "cell_type": "markdown",
   "id": "0db5b3ee-00e3-4d39-bd37-a92e231ac77d",
   "metadata": {},
   "source": [
    "# 3. Machine Learning Pipelines"
   ]
  },
  {
   "cell_type": "markdown",
   "id": "7fc0aa14-cb87-4022-94bc-37b648662f96",
   "metadata": {},
   "source": [
    "This series is based on the Datacamp course [Introduction to PySpark](https://app.datacamp.com/learn/courses/introduction-to-pyspark). The course has the following chapters:\n",
    "\n",
    "1. Basics: Getting to know PySpark\n",
    "2. Manipulating data\n",
    "3. **Getting started with machine learning pipelines**: The current notebook.\n",
    "4. Model tuning and selection"
   ]
  },
  {
   "cell_type": "markdown",
   "id": "6e66c001-6e1a-4e8d-b377-33f58ac49d50",
   "metadata": {},
   "source": [
    "**Table of Contents:**\n",
    "\n",
    "- []()"
   ]
  },
  {
   "cell_type": "code",
   "execution_count": null,
   "id": "1737dc57-d2e0-4884-9003-1db690eefbf0",
   "metadata": {},
   "outputs": [],
   "source": []
  }
 ],
 "metadata": {
  "kernelspec": {
   "display_name": "Python 3 (ipykernel)",
   "language": "python",
   "name": "python3"
  },
  "language_info": {
   "codemirror_mode": {
    "name": "ipython",
    "version": 3
   },
   "file_extension": ".py",
   "mimetype": "text/x-python",
   "name": "python",
   "nbconvert_exporter": "python",
   "pygments_lexer": "ipython3",
   "version": "3.7.13"
  }
 },
 "nbformat": 4,
 "nbformat_minor": 5
}
